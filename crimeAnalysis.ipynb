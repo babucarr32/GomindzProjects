{
 "cells": [
  {
   "cell_type": "code",
   "execution_count": 1,
   "id": "0fd46bc5",
   "metadata": {},
   "outputs": [],
   "source": [
    "import pandas as pd\n",
    "import seaborn as sns\n",
    "import numpy as np\n",
    "import matplotlib.pyplot as plt\n",
    "%matplotlib inline"
   ]
  },
  {
   "cell_type": "code",
   "execution_count": 2,
   "id": "17522f55",
   "metadata": {},
   "outputs": [],
   "source": [
    "# The file is \"UnicodeDecodeError\" I have to fix it\n",
    "# crime = pd.read_csv(\"crime.csv\")"
   ]
  },
  {
   "cell_type": "code",
   "execution_count": 3,
   "id": "040c847d",
   "metadata": {},
   "outputs": [],
   "source": [
    "# fixing the error by adding the \"encoding='latin'\" param in the file pd.read_csv func.\n",
    "crime = pd.read_csv(\"crime.csv\", encoding=\"latin\")"
   ]
  },
  {
   "cell_type": "code",
   "execution_count": 4,
   "id": "4f0eb90e",
   "metadata": {},
   "outputs": [
    {
     "data": {
      "text/html": [
       "<div>\n",
       "<style scoped>\n",
       "    .dataframe tbody tr th:only-of-type {\n",
       "        vertical-align: middle;\n",
       "    }\n",
       "\n",
       "    .dataframe tbody tr th {\n",
       "        vertical-align: top;\n",
       "    }\n",
       "\n",
       "    .dataframe thead th {\n",
       "        text-align: right;\n",
       "    }\n",
       "</style>\n",
       "<table border=\"1\" class=\"dataframe\">\n",
       "  <thead>\n",
       "    <tr style=\"text-align: right;\">\n",
       "      <th></th>\n",
       "      <th>INCIDENT_NUMBER</th>\n",
       "      <th>OFFENSE_CODE</th>\n",
       "      <th>OFFENSE_CODE_GROUP</th>\n",
       "      <th>OFFENSE_DESCRIPTION</th>\n",
       "      <th>DISTRICT</th>\n",
       "      <th>REPORTING_AREA</th>\n",
       "      <th>SHOOTING</th>\n",
       "      <th>OCCURRED_ON_DATE</th>\n",
       "      <th>YEAR</th>\n",
       "      <th>MONTH</th>\n",
       "      <th>DAY_OF_WEEK</th>\n",
       "      <th>HOUR</th>\n",
       "      <th>UCR_PART</th>\n",
       "      <th>STREET</th>\n",
       "      <th>Lat</th>\n",
       "      <th>Long</th>\n",
       "      <th>Location</th>\n",
       "    </tr>\n",
       "  </thead>\n",
       "  <tbody>\n",
       "    <tr>\n",
       "      <th>0</th>\n",
       "      <td>I182070945</td>\n",
       "      <td>619</td>\n",
       "      <td>Larceny</td>\n",
       "      <td>LARCENY ALL OTHERS</td>\n",
       "      <td>D14</td>\n",
       "      <td>808</td>\n",
       "      <td>NaN</td>\n",
       "      <td>2018-09-02 13:00:00</td>\n",
       "      <td>2018</td>\n",
       "      <td>9</td>\n",
       "      <td>Sunday</td>\n",
       "      <td>13</td>\n",
       "      <td>Part One</td>\n",
       "      <td>LINCOLN ST</td>\n",
       "      <td>42.357791</td>\n",
       "      <td>-71.139371</td>\n",
       "      <td>(42.35779134, -71.13937053)</td>\n",
       "    </tr>\n",
       "    <tr>\n",
       "      <th>1</th>\n",
       "      <td>I182070943</td>\n",
       "      <td>1402</td>\n",
       "      <td>Vandalism</td>\n",
       "      <td>VANDALISM</td>\n",
       "      <td>C11</td>\n",
       "      <td>347</td>\n",
       "      <td>NaN</td>\n",
       "      <td>2018-08-21 00:00:00</td>\n",
       "      <td>2018</td>\n",
       "      <td>8</td>\n",
       "      <td>Tuesday</td>\n",
       "      <td>0</td>\n",
       "      <td>Part Two</td>\n",
       "      <td>HECLA ST</td>\n",
       "      <td>42.306821</td>\n",
       "      <td>-71.060300</td>\n",
       "      <td>(42.30682138, -71.06030035)</td>\n",
       "    </tr>\n",
       "    <tr>\n",
       "      <th>2</th>\n",
       "      <td>I182070941</td>\n",
       "      <td>3410</td>\n",
       "      <td>Towed</td>\n",
       "      <td>TOWED MOTOR VEHICLE</td>\n",
       "      <td>D4</td>\n",
       "      <td>151</td>\n",
       "      <td>NaN</td>\n",
       "      <td>2018-09-03 19:27:00</td>\n",
       "      <td>2018</td>\n",
       "      <td>9</td>\n",
       "      <td>Monday</td>\n",
       "      <td>19</td>\n",
       "      <td>Part Three</td>\n",
       "      <td>CAZENOVE ST</td>\n",
       "      <td>42.346589</td>\n",
       "      <td>-71.072429</td>\n",
       "      <td>(42.34658879, -71.07242943)</td>\n",
       "    </tr>\n",
       "    <tr>\n",
       "      <th>3</th>\n",
       "      <td>I182070940</td>\n",
       "      <td>3114</td>\n",
       "      <td>Investigate Property</td>\n",
       "      <td>INVESTIGATE PROPERTY</td>\n",
       "      <td>D4</td>\n",
       "      <td>272</td>\n",
       "      <td>NaN</td>\n",
       "      <td>2018-09-03 21:16:00</td>\n",
       "      <td>2018</td>\n",
       "      <td>9</td>\n",
       "      <td>Monday</td>\n",
       "      <td>21</td>\n",
       "      <td>Part Three</td>\n",
       "      <td>NEWCOMB ST</td>\n",
       "      <td>42.334182</td>\n",
       "      <td>-71.078664</td>\n",
       "      <td>(42.33418175, -71.07866441)</td>\n",
       "    </tr>\n",
       "    <tr>\n",
       "      <th>4</th>\n",
       "      <td>I182070938</td>\n",
       "      <td>3114</td>\n",
       "      <td>Investigate Property</td>\n",
       "      <td>INVESTIGATE PROPERTY</td>\n",
       "      <td>B3</td>\n",
       "      <td>421</td>\n",
       "      <td>NaN</td>\n",
       "      <td>2018-09-03 21:05:00</td>\n",
       "      <td>2018</td>\n",
       "      <td>9</td>\n",
       "      <td>Monday</td>\n",
       "      <td>21</td>\n",
       "      <td>Part Three</td>\n",
       "      <td>DELHI ST</td>\n",
       "      <td>42.275365</td>\n",
       "      <td>-71.090361</td>\n",
       "      <td>(42.27536542, -71.09036101)</td>\n",
       "    </tr>\n",
       "  </tbody>\n",
       "</table>\n",
       "</div>"
      ],
      "text/plain": [
       "  INCIDENT_NUMBER  OFFENSE_CODE    OFFENSE_CODE_GROUP   OFFENSE_DESCRIPTION  \\\n",
       "0      I182070945           619               Larceny    LARCENY ALL OTHERS   \n",
       "1      I182070943          1402             Vandalism             VANDALISM   \n",
       "2      I182070941          3410                 Towed   TOWED MOTOR VEHICLE   \n",
       "3      I182070940          3114  Investigate Property  INVESTIGATE PROPERTY   \n",
       "4      I182070938          3114  Investigate Property  INVESTIGATE PROPERTY   \n",
       "\n",
       "  DISTRICT REPORTING_AREA SHOOTING     OCCURRED_ON_DATE  YEAR  MONTH  \\\n",
       "0      D14            808      NaN  2018-09-02 13:00:00  2018      9   \n",
       "1      C11            347      NaN  2018-08-21 00:00:00  2018      8   \n",
       "2       D4            151      NaN  2018-09-03 19:27:00  2018      9   \n",
       "3       D4            272      NaN  2018-09-03 21:16:00  2018      9   \n",
       "4       B3            421      NaN  2018-09-03 21:05:00  2018      9   \n",
       "\n",
       "  DAY_OF_WEEK  HOUR    UCR_PART       STREET        Lat       Long  \\\n",
       "0      Sunday    13    Part One   LINCOLN ST  42.357791 -71.139371   \n",
       "1     Tuesday     0    Part Two     HECLA ST  42.306821 -71.060300   \n",
       "2      Monday    19  Part Three  CAZENOVE ST  42.346589 -71.072429   \n",
       "3      Monday    21  Part Three   NEWCOMB ST  42.334182 -71.078664   \n",
       "4      Monday    21  Part Three     DELHI ST  42.275365 -71.090361   \n",
       "\n",
       "                      Location  \n",
       "0  (42.35779134, -71.13937053)  \n",
       "1  (42.30682138, -71.06030035)  \n",
       "2  (42.34658879, -71.07242943)  \n",
       "3  (42.33418175, -71.07866441)  \n",
       "4  (42.27536542, -71.09036101)  "
      ]
     },
     "execution_count": 4,
     "metadata": {},
     "output_type": "execute_result"
    }
   ],
   "source": [
    "# print the head\n",
    "crime.head()"
   ]
  },
  {
   "cell_type": "code",
   "execution_count": 5,
   "id": "e71ccfda",
   "metadata": {},
   "outputs": [
    {
     "name": "stdout",
     "output_type": "stream",
     "text": [
      "<class 'pandas.core.frame.DataFrame'>\n",
      "RangeIndex: 319073 entries, 0 to 319072\n",
      "Data columns (total 17 columns):\n",
      " #   Column               Non-Null Count   Dtype  \n",
      "---  ------               --------------   -----  \n",
      " 0   INCIDENT_NUMBER      319073 non-null  object \n",
      " 1   OFFENSE_CODE         319073 non-null  int64  \n",
      " 2   OFFENSE_CODE_GROUP   319073 non-null  object \n",
      " 3   OFFENSE_DESCRIPTION  319073 non-null  object \n",
      " 4   DISTRICT             317308 non-null  object \n",
      " 5   REPORTING_AREA       319073 non-null  object \n",
      " 6   SHOOTING             1019 non-null    object \n",
      " 7   OCCURRED_ON_DATE     319073 non-null  object \n",
      " 8   YEAR                 319073 non-null  int64  \n",
      " 9   MONTH                319073 non-null  int64  \n",
      " 10  DAY_OF_WEEK          319073 non-null  object \n",
      " 11  HOUR                 319073 non-null  int64  \n",
      " 12  UCR_PART             318983 non-null  object \n",
      " 13  STREET               308202 non-null  object \n",
      " 14  Lat                  299074 non-null  float64\n",
      " 15  Long                 299074 non-null  float64\n",
      " 16  Location             319073 non-null  object \n",
      "dtypes: float64(2), int64(4), object(11)\n",
      "memory usage: 41.4+ MB\n"
     ]
    }
   ],
   "source": [
    "# finding info about the file\n",
    "crime.info()"
   ]
  },
  {
   "cell_type": "markdown",
   "id": "c30d9536",
   "metadata": {},
   "source": [
    "## The data above shows that there are some missing data in column like \"shooting\", \"district\", \"street\", etc"
   ]
  },
  {
   "cell_type": "code",
   "execution_count": 6,
   "id": "3433a22c",
   "metadata": {},
   "outputs": [
    {
     "data": {
      "text/html": [
       "<div>\n",
       "<style scoped>\n",
       "    .dataframe tbody tr th:only-of-type {\n",
       "        vertical-align: middle;\n",
       "    }\n",
       "\n",
       "    .dataframe tbody tr th {\n",
       "        vertical-align: top;\n",
       "    }\n",
       "\n",
       "    .dataframe thead th {\n",
       "        text-align: right;\n",
       "    }\n",
       "</style>\n",
       "<table border=\"1\" class=\"dataframe\">\n",
       "  <thead>\n",
       "    <tr style=\"text-align: right;\">\n",
       "      <th></th>\n",
       "      <th>OFFENSE_CODE</th>\n",
       "      <th>YEAR</th>\n",
       "      <th>MONTH</th>\n",
       "      <th>HOUR</th>\n",
       "      <th>Lat</th>\n",
       "      <th>Long</th>\n",
       "    </tr>\n",
       "  </thead>\n",
       "  <tbody>\n",
       "    <tr>\n",
       "      <th>count</th>\n",
       "      <td>319073.000000</td>\n",
       "      <td>319073.000000</td>\n",
       "      <td>319073.000000</td>\n",
       "      <td>319073.000000</td>\n",
       "      <td>299074.000000</td>\n",
       "      <td>299074.000000</td>\n",
       "    </tr>\n",
       "    <tr>\n",
       "      <th>mean</th>\n",
       "      <td>2317.546956</td>\n",
       "      <td>2016.560586</td>\n",
       "      <td>6.609719</td>\n",
       "      <td>13.118205</td>\n",
       "      <td>42.214381</td>\n",
       "      <td>-70.908272</td>\n",
       "    </tr>\n",
       "    <tr>\n",
       "      <th>std</th>\n",
       "      <td>1185.285543</td>\n",
       "      <td>0.996344</td>\n",
       "      <td>3.273691</td>\n",
       "      <td>6.294205</td>\n",
       "      <td>2.159766</td>\n",
       "      <td>3.493618</td>\n",
       "    </tr>\n",
       "    <tr>\n",
       "      <th>min</th>\n",
       "      <td>111.000000</td>\n",
       "      <td>2015.000000</td>\n",
       "      <td>1.000000</td>\n",
       "      <td>0.000000</td>\n",
       "      <td>-1.000000</td>\n",
       "      <td>-71.178674</td>\n",
       "    </tr>\n",
       "    <tr>\n",
       "      <th>25%</th>\n",
       "      <td>1001.000000</td>\n",
       "      <td>2016.000000</td>\n",
       "      <td>4.000000</td>\n",
       "      <td>9.000000</td>\n",
       "      <td>42.297442</td>\n",
       "      <td>-71.097135</td>\n",
       "    </tr>\n",
       "    <tr>\n",
       "      <th>50%</th>\n",
       "      <td>2907.000000</td>\n",
       "      <td>2017.000000</td>\n",
       "      <td>7.000000</td>\n",
       "      <td>14.000000</td>\n",
       "      <td>42.325538</td>\n",
       "      <td>-71.077524</td>\n",
       "    </tr>\n",
       "    <tr>\n",
       "      <th>75%</th>\n",
       "      <td>3201.000000</td>\n",
       "      <td>2017.000000</td>\n",
       "      <td>9.000000</td>\n",
       "      <td>18.000000</td>\n",
       "      <td>42.348624</td>\n",
       "      <td>-71.062467</td>\n",
       "    </tr>\n",
       "    <tr>\n",
       "      <th>max</th>\n",
       "      <td>3831.000000</td>\n",
       "      <td>2018.000000</td>\n",
       "      <td>12.000000</td>\n",
       "      <td>23.000000</td>\n",
       "      <td>42.395042</td>\n",
       "      <td>-1.000000</td>\n",
       "    </tr>\n",
       "  </tbody>\n",
       "</table>\n",
       "</div>"
      ],
      "text/plain": [
       "        OFFENSE_CODE           YEAR          MONTH           HOUR  \\\n",
       "count  319073.000000  319073.000000  319073.000000  319073.000000   \n",
       "mean     2317.546956    2016.560586       6.609719      13.118205   \n",
       "std      1185.285543       0.996344       3.273691       6.294205   \n",
       "min       111.000000    2015.000000       1.000000       0.000000   \n",
       "25%      1001.000000    2016.000000       4.000000       9.000000   \n",
       "50%      2907.000000    2017.000000       7.000000      14.000000   \n",
       "75%      3201.000000    2017.000000       9.000000      18.000000   \n",
       "max      3831.000000    2018.000000      12.000000      23.000000   \n",
       "\n",
       "                 Lat           Long  \n",
       "count  299074.000000  299074.000000  \n",
       "mean       42.214381     -70.908272  \n",
       "std         2.159766       3.493618  \n",
       "min        -1.000000     -71.178674  \n",
       "25%        42.297442     -71.097135  \n",
       "50%        42.325538     -71.077524  \n",
       "75%        42.348624     -71.062467  \n",
       "max        42.395042      -1.000000  "
      ]
     },
     "execution_count": 6,
     "metadata": {},
     "output_type": "execute_result"
    }
   ],
   "source": [
    "# describing the data\n",
    "crime.describe()"
   ]
  },
  {
   "cell_type": "markdown",
   "id": "8391b111",
   "metadata": {},
   "source": [
    "## Dropping unuseful columns in our context"
   ]
  },
  {
   "cell_type": "code",
   "execution_count": 7,
   "id": "1d713e94",
   "metadata": {},
   "outputs": [
    {
     "data": {
      "text/plain": [
       "Index(['INCIDENT_NUMBER', 'OFFENSE_CODE', 'OFFENSE_CODE_GROUP',\n",
       "       'OFFENSE_DESCRIPTION', 'DISTRICT', 'REPORTING_AREA', 'SHOOTING',\n",
       "       'OCCURRED_ON_DATE', 'YEAR', 'MONTH', 'DAY_OF_WEEK', 'HOUR', 'UCR_PART',\n",
       "       'STREET', 'Lat', 'Long', 'Location'],\n",
       "      dtype='object')"
      ]
     },
     "execution_count": 7,
     "metadata": {},
     "output_type": "execute_result"
    }
   ],
   "source": [
    "# print all the columns in order to have a better view of all the column names\n",
    "crime.columns"
   ]
  },
  {
   "cell_type": "code",
   "execution_count": 8,
   "id": "13d2b8eb",
   "metadata": {},
   "outputs": [],
   "source": [
    "# drop \"INCIDENT_NUMBER\" \n",
    "crime.drop(\"INCIDENT_NUMBER\", axis = 1, inplace = True)"
   ]
  },
  {
   "cell_type": "code",
   "execution_count": 9,
   "id": "e6dd9c39",
   "metadata": {},
   "outputs": [],
   "source": [
    "# drop \"OFFENSE_DESCRIPTION\" \n",
    "crime.drop(\"OFFENSE_DESCRIPTION\", axis = 1, inplace = True)"
   ]
  },
  {
   "cell_type": "code",
   "execution_count": 10,
   "id": "ea947469",
   "metadata": {},
   "outputs": [],
   "source": [
    "# drop \"SHOOTING\" \n",
    "crime.drop(\"SHOOTING\", axis = 1, inplace = True)"
   ]
  },
  {
   "cell_type": "code",
   "execution_count": 11,
   "id": "23621ac8",
   "metadata": {},
   "outputs": [
    {
     "data": {
      "text/html": [
       "<div>\n",
       "<style scoped>\n",
       "    .dataframe tbody tr th:only-of-type {\n",
       "        vertical-align: middle;\n",
       "    }\n",
       "\n",
       "    .dataframe tbody tr th {\n",
       "        vertical-align: top;\n",
       "    }\n",
       "\n",
       "    .dataframe thead th {\n",
       "        text-align: right;\n",
       "    }\n",
       "</style>\n",
       "<table border=\"1\" class=\"dataframe\">\n",
       "  <thead>\n",
       "    <tr style=\"text-align: right;\">\n",
       "      <th></th>\n",
       "      <th>OFFENSE_CODE</th>\n",
       "      <th>OFFENSE_CODE_GROUP</th>\n",
       "      <th>DISTRICT</th>\n",
       "      <th>REPORTING_AREA</th>\n",
       "      <th>OCCURRED_ON_DATE</th>\n",
       "      <th>YEAR</th>\n",
       "      <th>MONTH</th>\n",
       "      <th>DAY_OF_WEEK</th>\n",
       "      <th>HOUR</th>\n",
       "      <th>UCR_PART</th>\n",
       "      <th>STREET</th>\n",
       "      <th>Lat</th>\n",
       "      <th>Long</th>\n",
       "      <th>Location</th>\n",
       "    </tr>\n",
       "  </thead>\n",
       "  <tbody>\n",
       "    <tr>\n",
       "      <th>0</th>\n",
       "      <td>619</td>\n",
       "      <td>Larceny</td>\n",
       "      <td>D14</td>\n",
       "      <td>808</td>\n",
       "      <td>2018-09-02 13:00:00</td>\n",
       "      <td>2018</td>\n",
       "      <td>9</td>\n",
       "      <td>Sunday</td>\n",
       "      <td>13</td>\n",
       "      <td>Part One</td>\n",
       "      <td>LINCOLN ST</td>\n",
       "      <td>42.357791</td>\n",
       "      <td>-71.139371</td>\n",
       "      <td>(42.35779134, -71.13937053)</td>\n",
       "    </tr>\n",
       "    <tr>\n",
       "      <th>1</th>\n",
       "      <td>1402</td>\n",
       "      <td>Vandalism</td>\n",
       "      <td>C11</td>\n",
       "      <td>347</td>\n",
       "      <td>2018-08-21 00:00:00</td>\n",
       "      <td>2018</td>\n",
       "      <td>8</td>\n",
       "      <td>Tuesday</td>\n",
       "      <td>0</td>\n",
       "      <td>Part Two</td>\n",
       "      <td>HECLA ST</td>\n",
       "      <td>42.306821</td>\n",
       "      <td>-71.060300</td>\n",
       "      <td>(42.30682138, -71.06030035)</td>\n",
       "    </tr>\n",
       "    <tr>\n",
       "      <th>2</th>\n",
       "      <td>3410</td>\n",
       "      <td>Towed</td>\n",
       "      <td>D4</td>\n",
       "      <td>151</td>\n",
       "      <td>2018-09-03 19:27:00</td>\n",
       "      <td>2018</td>\n",
       "      <td>9</td>\n",
       "      <td>Monday</td>\n",
       "      <td>19</td>\n",
       "      <td>Part Three</td>\n",
       "      <td>CAZENOVE ST</td>\n",
       "      <td>42.346589</td>\n",
       "      <td>-71.072429</td>\n",
       "      <td>(42.34658879, -71.07242943)</td>\n",
       "    </tr>\n",
       "    <tr>\n",
       "      <th>3</th>\n",
       "      <td>3114</td>\n",
       "      <td>Investigate Property</td>\n",
       "      <td>D4</td>\n",
       "      <td>272</td>\n",
       "      <td>2018-09-03 21:16:00</td>\n",
       "      <td>2018</td>\n",
       "      <td>9</td>\n",
       "      <td>Monday</td>\n",
       "      <td>21</td>\n",
       "      <td>Part Three</td>\n",
       "      <td>NEWCOMB ST</td>\n",
       "      <td>42.334182</td>\n",
       "      <td>-71.078664</td>\n",
       "      <td>(42.33418175, -71.07866441)</td>\n",
       "    </tr>\n",
       "    <tr>\n",
       "      <th>4</th>\n",
       "      <td>3114</td>\n",
       "      <td>Investigate Property</td>\n",
       "      <td>B3</td>\n",
       "      <td>421</td>\n",
       "      <td>2018-09-03 21:05:00</td>\n",
       "      <td>2018</td>\n",
       "      <td>9</td>\n",
       "      <td>Monday</td>\n",
       "      <td>21</td>\n",
       "      <td>Part Three</td>\n",
       "      <td>DELHI ST</td>\n",
       "      <td>42.275365</td>\n",
       "      <td>-71.090361</td>\n",
       "      <td>(42.27536542, -71.09036101)</td>\n",
       "    </tr>\n",
       "  </tbody>\n",
       "</table>\n",
       "</div>"
      ],
      "text/plain": [
       "   OFFENSE_CODE    OFFENSE_CODE_GROUP DISTRICT REPORTING_AREA  \\\n",
       "0           619               Larceny      D14            808   \n",
       "1          1402             Vandalism      C11            347   \n",
       "2          3410                 Towed       D4            151   \n",
       "3          3114  Investigate Property       D4            272   \n",
       "4          3114  Investigate Property       B3            421   \n",
       "\n",
       "      OCCURRED_ON_DATE  YEAR  MONTH DAY_OF_WEEK  HOUR    UCR_PART  \\\n",
       "0  2018-09-02 13:00:00  2018      9      Sunday    13    Part One   \n",
       "1  2018-08-21 00:00:00  2018      8     Tuesday     0    Part Two   \n",
       "2  2018-09-03 19:27:00  2018      9      Monday    19  Part Three   \n",
       "3  2018-09-03 21:16:00  2018      9      Monday    21  Part Three   \n",
       "4  2018-09-03 21:05:00  2018      9      Monday    21  Part Three   \n",
       "\n",
       "        STREET        Lat       Long                     Location  \n",
       "0   LINCOLN ST  42.357791 -71.139371  (42.35779134, -71.13937053)  \n",
       "1     HECLA ST  42.306821 -71.060300  (42.30682138, -71.06030035)  \n",
       "2  CAZENOVE ST  42.346589 -71.072429  (42.34658879, -71.07242943)  \n",
       "3   NEWCOMB ST  42.334182 -71.078664  (42.33418175, -71.07866441)  \n",
       "4     DELHI ST  42.275365 -71.090361  (42.27536542, -71.09036101)  "
      ]
     },
     "execution_count": 11,
     "metadata": {},
     "output_type": "execute_result"
    }
   ],
   "source": [
    "crime.head()"
   ]
  },
  {
   "cell_type": "code",
   "execution_count": 12,
   "id": "f14e395e",
   "metadata": {},
   "outputs": [],
   "source": [
    "# repalce all the NaN in the data with 0\n",
    "crime.fillna(0, inplace=True)"
   ]
  },
  {
   "cell_type": "code",
   "execution_count": 13,
   "id": "580b0481",
   "metadata": {},
   "outputs": [
    {
     "name": "stdout",
     "output_type": "stream",
     "text": [
      "<class 'pandas.core.frame.DataFrame'>\n",
      "RangeIndex: 319073 entries, 0 to 319072\n",
      "Data columns (total 14 columns):\n",
      " #   Column              Non-Null Count   Dtype  \n",
      "---  ------              --------------   -----  \n",
      " 0   OFFENSE_CODE        319073 non-null  int64  \n",
      " 1   OFFENSE_CODE_GROUP  319073 non-null  object \n",
      " 2   DISTRICT            319073 non-null  object \n",
      " 3   REPORTING_AREA      319073 non-null  object \n",
      " 4   OCCURRED_ON_DATE    319073 non-null  object \n",
      " 5   YEAR                319073 non-null  int64  \n",
      " 6   MONTH               319073 non-null  int64  \n",
      " 7   DAY_OF_WEEK         319073 non-null  object \n",
      " 8   HOUR                319073 non-null  int64  \n",
      " 9   UCR_PART            319073 non-null  object \n",
      " 10  STREET              319073 non-null  object \n",
      " 11  Lat                 319073 non-null  float64\n",
      " 12  Long                319073 non-null  float64\n",
      " 13  Location            319073 non-null  object \n",
      "dtypes: float64(2), int64(4), object(8)\n",
      "memory usage: 34.1+ MB\n"
     ]
    }
   ],
   "source": [
    "# cofirm/check if all the data is clean\n",
    "crime.info()"
   ]
  },
  {
   "cell_type": "markdown",
   "id": "08405d1e",
   "metadata": {},
   "source": [
    "## Yes! it is clean ;)\n",
    "\n",
    "# Now I will convert the date into actual date that pandas will uderstand"
   ]
  },
  {
   "cell_type": "code",
   "execution_count": 14,
   "id": "429760af",
   "metadata": {},
   "outputs": [],
   "source": [
    "crimeDate = crime"
   ]
  },
  {
   "cell_type": "code",
   "execution_count": 15,
   "id": "b9bed89d",
   "metadata": {},
   "outputs": [],
   "source": [
    "# # convert the date\n",
    "crimeDate[\"OCCURRED_ON_DATE\"] = pd.to_datetime(crime[\"OCCURRED_ON_DATE\"])"
   ]
  },
  {
   "cell_type": "code",
   "execution_count": 16,
   "id": "699c982a",
   "metadata": {},
   "outputs": [
    {
     "data": {
      "text/plain": [
       "0        2018-09-02 13:00:00\n",
       "1        2018-08-21 00:00:00\n",
       "2        2018-09-03 19:27:00\n",
       "3        2018-09-03 21:16:00\n",
       "4        2018-09-03 21:05:00\n",
       "                 ...        \n",
       "319068   2016-06-05 17:25:00\n",
       "319069   2015-07-09 13:38:00\n",
       "319070   2015-07-09 13:38:00\n",
       "319071   2016-05-31 19:35:00\n",
       "319072   2015-06-22 00:12:00\n",
       "Name: OCCURRED_ON_DATE, Length: 319073, dtype: datetime64[ns]"
      ]
     },
     "execution_count": 16,
     "metadata": {},
     "output_type": "execute_result"
    }
   ],
   "source": [
    "# print the converted the date\n",
    "crimeDate[\"OCCURRED_ON_DATE\"]"
   ]
  },
  {
   "cell_type": "code",
   "execution_count": 17,
   "id": "4919a31f",
   "metadata": {},
   "outputs": [],
   "source": [
    "# I will use \"dt.time\" to grab the time, since that's what am interested in\n",
    "crimeDate[\"OCCURRED_ON_DATE\"] = crime[\"OCCURRED_ON_DATE\"].dt.time"
   ]
  },
  {
   "cell_type": "code",
   "execution_count": 18,
   "id": "1e2e4c21",
   "metadata": {},
   "outputs": [],
   "source": [
    "# assign the crime value to crimeTime\n",
    "crimeTime = crime[\"OCCURRED_ON_DATE\"]"
   ]
  },
  {
   "cell_type": "code",
   "execution_count": 19,
   "id": "6966e10d",
   "metadata": {},
   "outputs": [
    {
     "data": {
      "text/plain": [
       "0         13:00:00\n",
       "1         00:00:00\n",
       "2         19:27:00\n",
       "3         21:16:00\n",
       "4         21:05:00\n",
       "            ...   \n",
       "319068    17:25:00\n",
       "319069    13:38:00\n",
       "319070    13:38:00\n",
       "319071    19:35:00\n",
       "319072    00:12:00\n",
       "Name: OCCURRED_ON_DATE, Length: 319073, dtype: object"
      ]
     },
     "execution_count": 19,
     "metadata": {},
     "output_type": "execute_result"
    }
   ],
   "source": [
    "# print the time\n",
    "crimeTime"
   ]
  },
  {
   "cell_type": "code",
   "execution_count": 20,
   "id": "e9934882",
   "metadata": {},
   "outputs": [],
   "source": [
    "# create a new column for time in the dataset\n",
    "crime['TIME'] = crimeTime"
   ]
  },
  {
   "cell_type": "code",
   "execution_count": 21,
   "id": "f1fbba14",
   "metadata": {},
   "outputs": [
    {
     "data": {
      "text/html": [
       "<div>\n",
       "<style scoped>\n",
       "    .dataframe tbody tr th:only-of-type {\n",
       "        vertical-align: middle;\n",
       "    }\n",
       "\n",
       "    .dataframe tbody tr th {\n",
       "        vertical-align: top;\n",
       "    }\n",
       "\n",
       "    .dataframe thead th {\n",
       "        text-align: right;\n",
       "    }\n",
       "</style>\n",
       "<table border=\"1\" class=\"dataframe\">\n",
       "  <thead>\n",
       "    <tr style=\"text-align: right;\">\n",
       "      <th></th>\n",
       "      <th>OFFENSE_CODE</th>\n",
       "      <th>OFFENSE_CODE_GROUP</th>\n",
       "      <th>DISTRICT</th>\n",
       "      <th>REPORTING_AREA</th>\n",
       "      <th>OCCURRED_ON_DATE</th>\n",
       "      <th>YEAR</th>\n",
       "      <th>MONTH</th>\n",
       "      <th>DAY_OF_WEEK</th>\n",
       "      <th>HOUR</th>\n",
       "      <th>UCR_PART</th>\n",
       "      <th>STREET</th>\n",
       "      <th>Lat</th>\n",
       "      <th>Long</th>\n",
       "      <th>Location</th>\n",
       "      <th>TIME</th>\n",
       "    </tr>\n",
       "  </thead>\n",
       "  <tbody>\n",
       "    <tr>\n",
       "      <th>0</th>\n",
       "      <td>619</td>\n",
       "      <td>Larceny</td>\n",
       "      <td>D14</td>\n",
       "      <td>808</td>\n",
       "      <td>13:00:00</td>\n",
       "      <td>2018</td>\n",
       "      <td>9</td>\n",
       "      <td>Sunday</td>\n",
       "      <td>13</td>\n",
       "      <td>Part One</td>\n",
       "      <td>LINCOLN ST</td>\n",
       "      <td>42.357791</td>\n",
       "      <td>-71.139371</td>\n",
       "      <td>(42.35779134, -71.13937053)</td>\n",
       "      <td>13:00:00</td>\n",
       "    </tr>\n",
       "    <tr>\n",
       "      <th>1</th>\n",
       "      <td>1402</td>\n",
       "      <td>Vandalism</td>\n",
       "      <td>C11</td>\n",
       "      <td>347</td>\n",
       "      <td>00:00:00</td>\n",
       "      <td>2018</td>\n",
       "      <td>8</td>\n",
       "      <td>Tuesday</td>\n",
       "      <td>0</td>\n",
       "      <td>Part Two</td>\n",
       "      <td>HECLA ST</td>\n",
       "      <td>42.306821</td>\n",
       "      <td>-71.060300</td>\n",
       "      <td>(42.30682138, -71.06030035)</td>\n",
       "      <td>00:00:00</td>\n",
       "    </tr>\n",
       "    <tr>\n",
       "      <th>2</th>\n",
       "      <td>3410</td>\n",
       "      <td>Towed</td>\n",
       "      <td>D4</td>\n",
       "      <td>151</td>\n",
       "      <td>19:27:00</td>\n",
       "      <td>2018</td>\n",
       "      <td>9</td>\n",
       "      <td>Monday</td>\n",
       "      <td>19</td>\n",
       "      <td>Part Three</td>\n",
       "      <td>CAZENOVE ST</td>\n",
       "      <td>42.346589</td>\n",
       "      <td>-71.072429</td>\n",
       "      <td>(42.34658879, -71.07242943)</td>\n",
       "      <td>19:27:00</td>\n",
       "    </tr>\n",
       "    <tr>\n",
       "      <th>3</th>\n",
       "      <td>3114</td>\n",
       "      <td>Investigate Property</td>\n",
       "      <td>D4</td>\n",
       "      <td>272</td>\n",
       "      <td>21:16:00</td>\n",
       "      <td>2018</td>\n",
       "      <td>9</td>\n",
       "      <td>Monday</td>\n",
       "      <td>21</td>\n",
       "      <td>Part Three</td>\n",
       "      <td>NEWCOMB ST</td>\n",
       "      <td>42.334182</td>\n",
       "      <td>-71.078664</td>\n",
       "      <td>(42.33418175, -71.07866441)</td>\n",
       "      <td>21:16:00</td>\n",
       "    </tr>\n",
       "    <tr>\n",
       "      <th>4</th>\n",
       "      <td>3114</td>\n",
       "      <td>Investigate Property</td>\n",
       "      <td>B3</td>\n",
       "      <td>421</td>\n",
       "      <td>21:05:00</td>\n",
       "      <td>2018</td>\n",
       "      <td>9</td>\n",
       "      <td>Monday</td>\n",
       "      <td>21</td>\n",
       "      <td>Part Three</td>\n",
       "      <td>DELHI ST</td>\n",
       "      <td>42.275365</td>\n",
       "      <td>-71.090361</td>\n",
       "      <td>(42.27536542, -71.09036101)</td>\n",
       "      <td>21:05:00</td>\n",
       "    </tr>\n",
       "  </tbody>\n",
       "</table>\n",
       "</div>"
      ],
      "text/plain": [
       "   OFFENSE_CODE    OFFENSE_CODE_GROUP DISTRICT REPORTING_AREA  \\\n",
       "0           619               Larceny      D14            808   \n",
       "1          1402             Vandalism      C11            347   \n",
       "2          3410                 Towed       D4            151   \n",
       "3          3114  Investigate Property       D4            272   \n",
       "4          3114  Investigate Property       B3            421   \n",
       "\n",
       "  OCCURRED_ON_DATE  YEAR  MONTH DAY_OF_WEEK  HOUR    UCR_PART       STREET  \\\n",
       "0         13:00:00  2018      9      Sunday    13    Part One   LINCOLN ST   \n",
       "1         00:00:00  2018      8     Tuesday     0    Part Two     HECLA ST   \n",
       "2         19:27:00  2018      9      Monday    19  Part Three  CAZENOVE ST   \n",
       "3         21:16:00  2018      9      Monday    21  Part Three   NEWCOMB ST   \n",
       "4         21:05:00  2018      9      Monday    21  Part Three     DELHI ST   \n",
       "\n",
       "         Lat       Long                     Location      TIME  \n",
       "0  42.357791 -71.139371  (42.35779134, -71.13937053)  13:00:00  \n",
       "1  42.306821 -71.060300  (42.30682138, -71.06030035)  00:00:00  \n",
       "2  42.346589 -71.072429  (42.34658879, -71.07242943)  19:27:00  \n",
       "3  42.334182 -71.078664  (42.33418175, -71.07866441)  21:16:00  \n",
       "4  42.275365 -71.090361  (42.27536542, -71.09036101)  21:05:00  "
      ]
     },
     "execution_count": 21,
     "metadata": {},
     "output_type": "execute_result"
    }
   ],
   "source": [
    "# confirm the \"TIME\" col is added \n",
    "crime.head()"
   ]
  },
  {
   "cell_type": "markdown",
   "id": "88a734f8",
   "metadata": {},
   "source": [
    "## Yes! it is added ;)\n",
    "# Now I will delete \"OCCURRED_ON_DATE\", since the \"YEAR\", \"DAY_OF_WEEK\", and \"TIME\" is included in the data now"
   ]
  },
  {
   "cell_type": "code",
   "execution_count": 22,
   "id": "95252b5a",
   "metadata": {},
   "outputs": [],
   "source": [
    "# drop the \"OCCURRED_ON_DATE\"\n",
    "crime.drop(\"OCCURRED_ON_DATE\", axis = 1, inplace = True)"
   ]
  },
  {
   "cell_type": "code",
   "execution_count": 23,
   "id": "2b872bd8",
   "metadata": {},
   "outputs": [
    {
     "data": {
      "text/html": [
       "<div>\n",
       "<style scoped>\n",
       "    .dataframe tbody tr th:only-of-type {\n",
       "        vertical-align: middle;\n",
       "    }\n",
       "\n",
       "    .dataframe tbody tr th {\n",
       "        vertical-align: top;\n",
       "    }\n",
       "\n",
       "    .dataframe thead th {\n",
       "        text-align: right;\n",
       "    }\n",
       "</style>\n",
       "<table border=\"1\" class=\"dataframe\">\n",
       "  <thead>\n",
       "    <tr style=\"text-align: right;\">\n",
       "      <th></th>\n",
       "      <th>OFFENSE_CODE</th>\n",
       "      <th>OFFENSE_CODE_GROUP</th>\n",
       "      <th>DISTRICT</th>\n",
       "      <th>REPORTING_AREA</th>\n",
       "      <th>YEAR</th>\n",
       "      <th>MONTH</th>\n",
       "      <th>DAY_OF_WEEK</th>\n",
       "      <th>HOUR</th>\n",
       "      <th>UCR_PART</th>\n",
       "      <th>STREET</th>\n",
       "      <th>Lat</th>\n",
       "      <th>Long</th>\n",
       "      <th>Location</th>\n",
       "      <th>TIME</th>\n",
       "    </tr>\n",
       "  </thead>\n",
       "  <tbody>\n",
       "    <tr>\n",
       "      <th>0</th>\n",
       "      <td>619</td>\n",
       "      <td>Larceny</td>\n",
       "      <td>D14</td>\n",
       "      <td>808</td>\n",
       "      <td>2018</td>\n",
       "      <td>9</td>\n",
       "      <td>Sunday</td>\n",
       "      <td>13</td>\n",
       "      <td>Part One</td>\n",
       "      <td>LINCOLN ST</td>\n",
       "      <td>42.357791</td>\n",
       "      <td>-71.139371</td>\n",
       "      <td>(42.35779134, -71.13937053)</td>\n",
       "      <td>13:00:00</td>\n",
       "    </tr>\n",
       "    <tr>\n",
       "      <th>1</th>\n",
       "      <td>1402</td>\n",
       "      <td>Vandalism</td>\n",
       "      <td>C11</td>\n",
       "      <td>347</td>\n",
       "      <td>2018</td>\n",
       "      <td>8</td>\n",
       "      <td>Tuesday</td>\n",
       "      <td>0</td>\n",
       "      <td>Part Two</td>\n",
       "      <td>HECLA ST</td>\n",
       "      <td>42.306821</td>\n",
       "      <td>-71.060300</td>\n",
       "      <td>(42.30682138, -71.06030035)</td>\n",
       "      <td>00:00:00</td>\n",
       "    </tr>\n",
       "    <tr>\n",
       "      <th>2</th>\n",
       "      <td>3410</td>\n",
       "      <td>Towed</td>\n",
       "      <td>D4</td>\n",
       "      <td>151</td>\n",
       "      <td>2018</td>\n",
       "      <td>9</td>\n",
       "      <td>Monday</td>\n",
       "      <td>19</td>\n",
       "      <td>Part Three</td>\n",
       "      <td>CAZENOVE ST</td>\n",
       "      <td>42.346589</td>\n",
       "      <td>-71.072429</td>\n",
       "      <td>(42.34658879, -71.07242943)</td>\n",
       "      <td>19:27:00</td>\n",
       "    </tr>\n",
       "    <tr>\n",
       "      <th>3</th>\n",
       "      <td>3114</td>\n",
       "      <td>Investigate Property</td>\n",
       "      <td>D4</td>\n",
       "      <td>272</td>\n",
       "      <td>2018</td>\n",
       "      <td>9</td>\n",
       "      <td>Monday</td>\n",
       "      <td>21</td>\n",
       "      <td>Part Three</td>\n",
       "      <td>NEWCOMB ST</td>\n",
       "      <td>42.334182</td>\n",
       "      <td>-71.078664</td>\n",
       "      <td>(42.33418175, -71.07866441)</td>\n",
       "      <td>21:16:00</td>\n",
       "    </tr>\n",
       "    <tr>\n",
       "      <th>4</th>\n",
       "      <td>3114</td>\n",
       "      <td>Investigate Property</td>\n",
       "      <td>B3</td>\n",
       "      <td>421</td>\n",
       "      <td>2018</td>\n",
       "      <td>9</td>\n",
       "      <td>Monday</td>\n",
       "      <td>21</td>\n",
       "      <td>Part Three</td>\n",
       "      <td>DELHI ST</td>\n",
       "      <td>42.275365</td>\n",
       "      <td>-71.090361</td>\n",
       "      <td>(42.27536542, -71.09036101)</td>\n",
       "      <td>21:05:00</td>\n",
       "    </tr>\n",
       "  </tbody>\n",
       "</table>\n",
       "</div>"
      ],
      "text/plain": [
       "   OFFENSE_CODE    OFFENSE_CODE_GROUP DISTRICT REPORTING_AREA  YEAR  MONTH  \\\n",
       "0           619               Larceny      D14            808  2018      9   \n",
       "1          1402             Vandalism      C11            347  2018      8   \n",
       "2          3410                 Towed       D4            151  2018      9   \n",
       "3          3114  Investigate Property       D4            272  2018      9   \n",
       "4          3114  Investigate Property       B3            421  2018      9   \n",
       "\n",
       "  DAY_OF_WEEK  HOUR    UCR_PART       STREET        Lat       Long  \\\n",
       "0      Sunday    13    Part One   LINCOLN ST  42.357791 -71.139371   \n",
       "1     Tuesday     0    Part Two     HECLA ST  42.306821 -71.060300   \n",
       "2      Monday    19  Part Three  CAZENOVE ST  42.346589 -71.072429   \n",
       "3      Monday    21  Part Three   NEWCOMB ST  42.334182 -71.078664   \n",
       "4      Monday    21  Part Three     DELHI ST  42.275365 -71.090361   \n",
       "\n",
       "                      Location      TIME  \n",
       "0  (42.35779134, -71.13937053)  13:00:00  \n",
       "1  (42.30682138, -71.06030035)  00:00:00  \n",
       "2  (42.34658879, -71.07242943)  19:27:00  \n",
       "3  (42.33418175, -71.07866441)  21:16:00  \n",
       "4  (42.27536542, -71.09036101)  21:05:00  "
      ]
     },
     "execution_count": 23,
     "metadata": {},
     "output_type": "execute_result"
    }
   ],
   "source": [
    "# print the head\n",
    "crime.head()"
   ]
  },
  {
   "cell_type": "markdown",
   "id": "622eff4a",
   "metadata": {},
   "source": [
    "## Visualizing the data"
   ]
  },
  {
   "cell_type": "code",
   "execution_count": 24,
   "id": "d98292f8",
   "metadata": {},
   "outputs": [
    {
     "data": {
      "text/plain": [
       "Index(['OFFENSE_CODE', 'OFFENSE_CODE_GROUP', 'DISTRICT', 'REPORTING_AREA',\n",
       "       'YEAR', 'MONTH', 'DAY_OF_WEEK', 'HOUR', 'UCR_PART', 'STREET', 'Lat',\n",
       "       'Long', 'Location', 'TIME'],\n",
       "      dtype='object')"
      ]
     },
     "execution_count": 24,
     "metadata": {},
     "output_type": "execute_result"
    }
   ],
   "source": [
    "# again print all the column names\n",
    "crime.columns"
   ]
  },
  {
   "cell_type": "code",
   "execution_count": 25,
   "id": "8992bf96",
   "metadata": {},
   "outputs": [
    {
     "data": {
      "text/plain": [
       "Text(0.5, 1.0, 'Crime Rate Per Year')"
      ]
     },
     "execution_count": 25,
     "metadata": {},
     "output_type": "execute_result"
    },
    {
     "data": {
      "image/png": "[encoded data removed]",
      "text/plain": [
       "<Figure size 640x480 with 1 Axes>"
      ]
     },
     "metadata": {},
     "output_type": "display_data"
    }
   ],
   "source": [
    "# I am trying to find in which year there was more crime, I use ci=False to disable the confidence intervals\n",
    "sns.barplot(data=crime, x=\"YEAR\", y=crime.index, ci=False).set_title(\"Crime Rate Per Year\")"
   ]
  },
  {
   "cell_type": "code",
   "execution_count": 26,
   "id": "c0ec7a8e",
   "metadata": {},
   "outputs": [
    {
     "data": {
      "text/plain": [
       "Text(0.5, 1.0, 'Crime Rate Per Hour')"
      ]
     },
     "execution_count": 26,
     "metadata": {},
     "output_type": "execute_result"
    },
    {
     "data": {
      "image/png": "[encoded data removed]",
      "text/plain": [
       "<Figure size 640x480 with 1 Axes>"
      ]
     },
     "metadata": {},
     "output_type": "display_data"
    }
   ],
   "source": [
    "# I am trying to find at which time there was more crime, I use ci=False to disable the confidence intervals\n",
    "sns.barplot(data=crime, x=\"HOUR\", y=crime.index, ci=False).set_title(\"Crime Rate Per Hour\")"
   ]
  },
  {
   "cell_type": "code",
   "execution_count": 27,
   "id": "264dfe4f",
   "metadata": {},
   "outputs": [
    {
     "data": {
      "text/plain": [
       "Text(0.5, 1.0, 'Crime Rate Per Hour')"
      ]
     },
     "execution_count": 27,
     "metadata": {},
     "output_type": "execute_result"
    },
    {
     "data": {
      "image/png": "[encoded data removed]",
      "text/plain": [
       "<Figure size 640x480 with 1 Axes>"
      ]
     },
     "metadata": {},
     "output_type": "display_data"
    }
   ],
   "source": [
    "# I am trying to find at which hour there was more crime, I use ci=False to disable the confidence intervals\n",
    "sns.barplot(x=crime.YEAR, y=crime.HOUR, ci=False).set_title(\"Crime Rate Per Hour\")"
   ]
  },
  {
   "cell_type": "code",
   "execution_count": 28,
   "id": "6aff07e7",
   "metadata": {},
   "outputs": [],
   "source": [
    "# finding the days in which crimes occur most\n",
    "crimeDays = pd.get_dummies(crime['DAY_OF_WEEK'])"
   ]
  },
  {
   "cell_type": "code",
   "execution_count": 29,
   "id": "e4d8e336",
   "metadata": {},
   "outputs": [
    {
     "data": {
      "text/html": [
       "<div>\n",
       "<style scoped>\n",
       "    .dataframe tbody tr th:only-of-type {\n",
       "        vertical-align: middle;\n",
       "    }\n",
       "\n",
       "    .dataframe tbody tr th {\n",
       "        vertical-align: top;\n",
       "    }\n",
       "\n",
       "    .dataframe thead th {\n",
       "        text-align: right;\n",
       "    }\n",
       "</style>\n",
       "<table border=\"1\" class=\"dataframe\">\n",
       "  <thead>\n",
       "    <tr style=\"text-align: right;\">\n",
       "      <th></th>\n",
       "      <th>Friday</th>\n",
       "      <th>Monday</th>\n",
       "      <th>Saturday</th>\n",
       "      <th>Sunday</th>\n",
       "      <th>Thursday</th>\n",
       "      <th>Tuesday</th>\n",
       "      <th>Wednesday</th>\n",
       "    </tr>\n",
       "  </thead>\n",
       "  <tbody>\n",
       "    <tr>\n",
       "      <th>0</th>\n",
       "      <td>0</td>\n",
       "      <td>0</td>\n",
       "      <td>0</td>\n",
       "      <td>1</td>\n",
       "      <td>0</td>\n",
       "      <td>0</td>\n",
       "      <td>0</td>\n",
       "    </tr>\n",
       "    <tr>\n",
       "      <th>1</th>\n",
       "      <td>0</td>\n",
       "      <td>0</td>\n",
       "      <td>0</td>\n",
       "      <td>0</td>\n",
       "      <td>0</td>\n",
       "      <td>1</td>\n",
       "      <td>0</td>\n",
       "    </tr>\n",
       "    <tr>\n",
       "      <th>2</th>\n",
       "      <td>0</td>\n",
       "      <td>1</td>\n",
       "      <td>0</td>\n",
       "      <td>0</td>\n",
       "      <td>0</td>\n",
       "      <td>0</td>\n",
       "      <td>0</td>\n",
       "    </tr>\n",
       "    <tr>\n",
       "      <th>3</th>\n",
       "      <td>0</td>\n",
       "      <td>1</td>\n",
       "      <td>0</td>\n",
       "      <td>0</td>\n",
       "      <td>0</td>\n",
       "      <td>0</td>\n",
       "      <td>0</td>\n",
       "    </tr>\n",
       "    <tr>\n",
       "      <th>4</th>\n",
       "      <td>0</td>\n",
       "      <td>1</td>\n",
       "      <td>0</td>\n",
       "      <td>0</td>\n",
       "      <td>0</td>\n",
       "      <td>0</td>\n",
       "      <td>0</td>\n",
       "    </tr>\n",
       "    <tr>\n",
       "      <th>...</th>\n",
       "      <td>...</td>\n",
       "      <td>...</td>\n",
       "      <td>...</td>\n",
       "      <td>...</td>\n",
       "      <td>...</td>\n",
       "      <td>...</td>\n",
       "      <td>...</td>\n",
       "    </tr>\n",
       "    <tr>\n",
       "      <th>319068</th>\n",
       "      <td>0</td>\n",
       "      <td>0</td>\n",
       "      <td>0</td>\n",
       "      <td>1</td>\n",
       "      <td>0</td>\n",
       "      <td>0</td>\n",
       "      <td>0</td>\n",
       "    </tr>\n",
       "    <tr>\n",
       "      <th>319069</th>\n",
       "      <td>0</td>\n",
       "      <td>0</td>\n",
       "      <td>0</td>\n",
       "      <td>0</td>\n",
       "      <td>1</td>\n",
       "      <td>0</td>\n",
       "      <td>0</td>\n",
       "    </tr>\n",
       "    <tr>\n",
       "      <th>319070</th>\n",
       "      <td>0</td>\n",
       "      <td>0</td>\n",
       "      <td>0</td>\n",
       "      <td>0</td>\n",
       "      <td>1</td>\n",
       "      <td>0</td>\n",
       "      <td>0</td>\n",
       "    </tr>\n",
       "    <tr>\n",
       "      <th>319071</th>\n",
       "      <td>0</td>\n",
       "      <td>0</td>\n",
       "      <td>0</td>\n",
       "      <td>0</td>\n",
       "      <td>0</td>\n",
       "      <td>1</td>\n",
       "      <td>0</td>\n",
       "    </tr>\n",
       "    <tr>\n",
       "      <th>319072</th>\n",
       "      <td>0</td>\n",
       "      <td>1</td>\n",
       "      <td>0</td>\n",
       "      <td>0</td>\n",
       "      <td>0</td>\n",
       "      <td>0</td>\n",
       "      <td>0</td>\n",
       "    </tr>\n",
       "  </tbody>\n",
       "</table>\n",
       "<p>319073 rows × 7 columns</p>\n",
       "</div>"
      ],
      "text/plain": [
       "        Friday  Monday  Saturday  Sunday  Thursday  Tuesday  Wednesday\n",
       "0            0       0         0       1         0        0          0\n",
       "1            0       0         0       0         0        1          0\n",
       "2            0       1         0       0         0        0          0\n",
       "3            0       1         0       0         0        0          0\n",
       "4            0       1         0       0         0        0          0\n",
       "...        ...     ...       ...     ...       ...      ...        ...\n",
       "319068       0       0         0       1         0        0          0\n",
       "319069       0       0         0       0         1        0          0\n",
       "319070       0       0         0       0         1        0          0\n",
       "319071       0       0         0       0         0        1          0\n",
       "319072       0       1         0       0         0        0          0\n",
       "\n",
       "[319073 rows x 7 columns]"
      ]
     },
     "execution_count": 29,
     "metadata": {},
     "output_type": "execute_result"
    }
   ],
   "source": [
    "crimeDays"
   ]
  },
  {
   "cell_type": "code",
   "execution_count": 30,
   "id": "af7f1ff2",
   "metadata": {},
   "outputs": [
    {
     "data": {
      "text/plain": [
       "Text(0.5, 1.0, 'Days In Which Crimes Occur The Most')"
      ]
     },
     "execution_count": 30,
     "metadata": {},
     "output_type": "execute_result"
    },
    {
     "data": {
      "image/png": "[encoded data removed]",
      "text/plain": [
       "<Figure size 640x480 with 1 Axes>"
      ]
     },
     "metadata": {},
     "output_type": "display_data"
    }
   ],
   "source": [
    "# I am trying to find in which day crimes occur most \n",
    "sns.barplot(data = crimeDays, ci = False, orient = \"h\").set_title(\"days in which crimes occur the most\".title())"
   ]
  },
  {
   "cell_type": "code",
   "execution_count": 31,
   "id": "d218297e",
   "metadata": {},
   "outputs": [
    {
     "data": {
      "text/plain": [
       "Text(0.5, 1.0, 'Months In Which Crimes Occur The Most')"
      ]
     },
     "execution_count": 31,
     "metadata": {},
     "output_type": "execute_result"
    },
    {
     "data": {
      "image/png": "[encoded data removed]",
      "text/plain": [
       "<Figure size 640x480 with 1 Axes>"
      ]
     },
     "metadata": {},
     "output_type": "display_data"
    }
   ],
   "source": [
    "# I am trying to find in which month there was more crime, I use ci=False to disable the confidence intervals\n",
    "sns.barplot(x=crime.MONTH, y=crime.index, ci=False).set_title(\"months in which crimes occur the most\".title())"
   ]
  },
  {
   "cell_type": "code",
   "execution_count": 32,
   "id": "30c4bdcd",
   "metadata": {},
   "outputs": [],
   "source": [
    "# Trying to find in which area the crimes occurs the most\n",
    "crimeType = pd.get_dummies(crime[\"OFFENSE_CODE_GROUP\"])"
   ]
  },
  {
   "cell_type": "code",
   "execution_count": 33,
   "id": "b7210b99",
   "metadata": {},
   "outputs": [
    {
     "data": {
      "text/html": [
       "<div>\n",
       "<style scoped>\n",
       "    .dataframe tbody tr th:only-of-type {\n",
       "        vertical-align: middle;\n",
       "    }\n",
       "\n",
       "    .dataframe tbody tr th {\n",
       "        vertical-align: top;\n",
       "    }\n",
       "\n",
       "    .dataframe thead th {\n",
       "        text-align: right;\n",
       "    }\n",
       "</style>\n",
       "<table border=\"1\" class=\"dataframe\">\n",
       "  <thead>\n",
       "    <tr style=\"text-align: right;\">\n",
       "      <th></th>\n",
       "      <th>Aggravated Assault</th>\n",
       "      <th>Aircraft</th>\n",
       "      <th>Arson</th>\n",
       "      <th>Assembly or Gathering Violations</th>\n",
       "      <th>Auto Theft</th>\n",
       "      <th>Auto Theft Recovery</th>\n",
       "      <th>Ballistics</th>\n",
       "      <th>Biological Threat</th>\n",
       "      <th>Bomb Hoax</th>\n",
       "      <th>Burglary - No Property Taken</th>\n",
       "      <th>...</th>\n",
       "      <th>Restraining Order Violations</th>\n",
       "      <th>Robbery</th>\n",
       "      <th>Search Warrants</th>\n",
       "      <th>Service</th>\n",
       "      <th>Simple Assault</th>\n",
       "      <th>Towed</th>\n",
       "      <th>Vandalism</th>\n",
       "      <th>Verbal Disputes</th>\n",
       "      <th>Violations</th>\n",
       "      <th>Warrant Arrests</th>\n",
       "    </tr>\n",
       "  </thead>\n",
       "  <tbody>\n",
       "    <tr>\n",
       "      <th>0</th>\n",
       "      <td>0</td>\n",
       "      <td>0</td>\n",
       "      <td>0</td>\n",
       "      <td>0</td>\n",
       "      <td>0</td>\n",
       "      <td>0</td>\n",
       "      <td>0</td>\n",
       "      <td>0</td>\n",
       "      <td>0</td>\n",
       "      <td>0</td>\n",
       "      <td>...</td>\n",
       "      <td>0</td>\n",
       "      <td>0</td>\n",
       "      <td>0</td>\n",
       "      <td>0</td>\n",
       "      <td>0</td>\n",
       "      <td>0</td>\n",
       "      <td>0</td>\n",
       "      <td>0</td>\n",
       "      <td>0</td>\n",
       "      <td>0</td>\n",
       "    </tr>\n",
       "    <tr>\n",
       "      <th>1</th>\n",
       "      <td>0</td>\n",
       "      <td>0</td>\n",
       "      <td>0</td>\n",
       "      <td>0</td>\n",
       "      <td>0</td>\n",
       "      <td>0</td>\n",
       "      <td>0</td>\n",
       "      <td>0</td>\n",
       "      <td>0</td>\n",
       "      <td>0</td>\n",
       "      <td>...</td>\n",
       "      <td>0</td>\n",
       "      <td>0</td>\n",
       "      <td>0</td>\n",
       "      <td>0</td>\n",
       "      <td>0</td>\n",
       "      <td>0</td>\n",
       "      <td>1</td>\n",
       "      <td>0</td>\n",
       "      <td>0</td>\n",
       "      <td>0</td>\n",
       "    </tr>\n",
       "    <tr>\n",
       "      <th>2</th>\n",
       "      <td>0</td>\n",
       "      <td>0</td>\n",
       "      <td>0</td>\n",
       "      <td>0</td>\n",
       "      <td>0</td>\n",
       "      <td>0</td>\n",
       "      <td>0</td>\n",
       "      <td>0</td>\n",
       "      <td>0</td>\n",
       "      <td>0</td>\n",
       "      <td>...</td>\n",
       "      <td>0</td>\n",
       "      <td>0</td>\n",
       "      <td>0</td>\n",
       "      <td>0</td>\n",
       "      <td>0</td>\n",
       "      <td>1</td>\n",
       "      <td>0</td>\n",
       "      <td>0</td>\n",
       "      <td>0</td>\n",
       "      <td>0</td>\n",
       "    </tr>\n",
       "    <tr>\n",
       "      <th>3</th>\n",
       "      <td>0</td>\n",
       "      <td>0</td>\n",
       "      <td>0</td>\n",
       "      <td>0</td>\n",
       "      <td>0</td>\n",
       "      <td>0</td>\n",
       "      <td>0</td>\n",
       "      <td>0</td>\n",
       "      <td>0</td>\n",
       "      <td>0</td>\n",
       "      <td>...</td>\n",
       "      <td>0</td>\n",
       "      <td>0</td>\n",
       "      <td>0</td>\n",
       "      <td>0</td>\n",
       "      <td>0</td>\n",
       "      <td>0</td>\n",
       "      <td>0</td>\n",
       "      <td>0</td>\n",
       "      <td>0</td>\n",
       "      <td>0</td>\n",
       "    </tr>\n",
       "    <tr>\n",
       "      <th>4</th>\n",
       "      <td>0</td>\n",
       "      <td>0</td>\n",
       "      <td>0</td>\n",
       "      <td>0</td>\n",
       "      <td>0</td>\n",
       "      <td>0</td>\n",
       "      <td>0</td>\n",
       "      <td>0</td>\n",
       "      <td>0</td>\n",
       "      <td>0</td>\n",
       "      <td>...</td>\n",
       "      <td>0</td>\n",
       "      <td>0</td>\n",
       "      <td>0</td>\n",
       "      <td>0</td>\n",
       "      <td>0</td>\n",
       "      <td>0</td>\n",
       "      <td>0</td>\n",
       "      <td>0</td>\n",
       "      <td>0</td>\n",
       "      <td>0</td>\n",
       "    </tr>\n",
       "    <tr>\n",
       "      <th>...</th>\n",
       "      <td>...</td>\n",
       "      <td>...</td>\n",
       "      <td>...</td>\n",
       "      <td>...</td>\n",
       "      <td>...</td>\n",
       "      <td>...</td>\n",
       "      <td>...</td>\n",
       "      <td>...</td>\n",
       "      <td>...</td>\n",
       "      <td>...</td>\n",
       "      <td>...</td>\n",
       "      <td>...</td>\n",
       "      <td>...</td>\n",
       "      <td>...</td>\n",
       "      <td>...</td>\n",
       "      <td>...</td>\n",
       "      <td>...</td>\n",
       "      <td>...</td>\n",
       "      <td>...</td>\n",
       "      <td>...</td>\n",
       "      <td>...</td>\n",
       "    </tr>\n",
       "    <tr>\n",
       "      <th>319068</th>\n",
       "      <td>0</td>\n",
       "      <td>0</td>\n",
       "      <td>0</td>\n",
       "      <td>0</td>\n",
       "      <td>0</td>\n",
       "      <td>0</td>\n",
       "      <td>0</td>\n",
       "      <td>0</td>\n",
       "      <td>0</td>\n",
       "      <td>0</td>\n",
       "      <td>...</td>\n",
       "      <td>0</td>\n",
       "      <td>0</td>\n",
       "      <td>0</td>\n",
       "      <td>0</td>\n",
       "      <td>0</td>\n",
       "      <td>0</td>\n",
       "      <td>0</td>\n",
       "      <td>0</td>\n",
       "      <td>0</td>\n",
       "      <td>1</td>\n",
       "    </tr>\n",
       "    <tr>\n",
       "      <th>319069</th>\n",
       "      <td>0</td>\n",
       "      <td>0</td>\n",
       "      <td>0</td>\n",
       "      <td>0</td>\n",
       "      <td>0</td>\n",
       "      <td>0</td>\n",
       "      <td>0</td>\n",
       "      <td>0</td>\n",
       "      <td>0</td>\n",
       "      <td>0</td>\n",
       "      <td>...</td>\n",
       "      <td>0</td>\n",
       "      <td>0</td>\n",
       "      <td>0</td>\n",
       "      <td>0</td>\n",
       "      <td>0</td>\n",
       "      <td>0</td>\n",
       "      <td>0</td>\n",
       "      <td>0</td>\n",
       "      <td>0</td>\n",
       "      <td>0</td>\n",
       "    </tr>\n",
       "    <tr>\n",
       "      <th>319070</th>\n",
       "      <td>0</td>\n",
       "      <td>0</td>\n",
       "      <td>0</td>\n",
       "      <td>0</td>\n",
       "      <td>0</td>\n",
       "      <td>0</td>\n",
       "      <td>0</td>\n",
       "      <td>0</td>\n",
       "      <td>0</td>\n",
       "      <td>0</td>\n",
       "      <td>...</td>\n",
       "      <td>0</td>\n",
       "      <td>0</td>\n",
       "      <td>0</td>\n",
       "      <td>0</td>\n",
       "      <td>0</td>\n",
       "      <td>0</td>\n",
       "      <td>0</td>\n",
       "      <td>0</td>\n",
       "      <td>0</td>\n",
       "      <td>1</td>\n",
       "    </tr>\n",
       "    <tr>\n",
       "      <th>319071</th>\n",
       "      <td>0</td>\n",
       "      <td>0</td>\n",
       "      <td>0</td>\n",
       "      <td>0</td>\n",
       "      <td>0</td>\n",
       "      <td>0</td>\n",
       "      <td>0</td>\n",
       "      <td>0</td>\n",
       "      <td>0</td>\n",
       "      <td>0</td>\n",
       "      <td>...</td>\n",
       "      <td>0</td>\n",
       "      <td>0</td>\n",
       "      <td>0</td>\n",
       "      <td>0</td>\n",
       "      <td>0</td>\n",
       "      <td>0</td>\n",
       "      <td>0</td>\n",
       "      <td>0</td>\n",
       "      <td>0</td>\n",
       "      <td>1</td>\n",
       "    </tr>\n",
       "    <tr>\n",
       "      <th>319072</th>\n",
       "      <td>0</td>\n",
       "      <td>0</td>\n",
       "      <td>0</td>\n",
       "      <td>0</td>\n",
       "      <td>0</td>\n",
       "      <td>0</td>\n",
       "      <td>0</td>\n",
       "      <td>0</td>\n",
       "      <td>0</td>\n",
       "      <td>0</td>\n",
       "      <td>...</td>\n",
       "      <td>0</td>\n",
       "      <td>0</td>\n",
       "      <td>0</td>\n",
       "      <td>0</td>\n",
       "      <td>0</td>\n",
       "      <td>0</td>\n",
       "      <td>0</td>\n",
       "      <td>0</td>\n",
       "      <td>0</td>\n",
       "      <td>1</td>\n",
       "    </tr>\n",
       "  </tbody>\n",
       "</table>\n",
       "<p>319073 rows × 67 columns</p>\n",
       "</div>"
      ],
      "text/plain": [
       "        Aggravated Assault  Aircraft  Arson  Assembly or Gathering Violations  \\\n",
       "0                        0         0      0                                 0   \n",
       "1                        0         0      0                                 0   \n",
       "2                        0         0      0                                 0   \n",
       "3                        0         0      0                                 0   \n",
       "4                        0         0      0                                 0   \n",
       "...                    ...       ...    ...                               ...   \n",
       "319068                   0         0      0                                 0   \n",
       "319069                   0         0      0                                 0   \n",
       "319070                   0         0      0                                 0   \n",
       "319071                   0         0      0                                 0   \n",
       "319072                   0         0      0                                 0   \n",
       "\n",
       "        Auto Theft  Auto Theft Recovery  Ballistics  Biological Threat  \\\n",
       "0                0                    0           0                  0   \n",
       "1                0                    0           0                  0   \n",
       "2                0                    0           0                  0   \n",
       "3                0                    0           0                  0   \n",
       "4                0                    0           0                  0   \n",
       "...            ...                  ...         ...                ...   \n",
       "319068           0                    0           0                  0   \n",
       "319069           0                    0           0                  0   \n",
       "319070           0                    0           0                  0   \n",
       "319071           0                    0           0                  0   \n",
       "319072           0                    0           0                  0   \n",
       "\n",
       "        Bomb Hoax  Burglary - No Property Taken  ...  \\\n",
       "0               0                             0  ...   \n",
       "1               0                             0  ...   \n",
       "2               0                             0  ...   \n",
       "3               0                             0  ...   \n",
       "4               0                             0  ...   \n",
       "...           ...                           ...  ...   \n",
       "319068          0                             0  ...   \n",
       "319069          0                             0  ...   \n",
       "319070          0                             0  ...   \n",
       "319071          0                             0  ...   \n",
       "319072          0                             0  ...   \n",
       "\n",
       "        Restraining Order Violations  Robbery  Search Warrants  Service  \\\n",
       "0                                  0        0                0        0   \n",
       "1                                  0        0                0        0   \n",
       "2                                  0        0                0        0   \n",
       "3                                  0        0                0        0   \n",
       "4                                  0        0                0        0   \n",
       "...                              ...      ...              ...      ...   \n",
       "319068                             0        0                0        0   \n",
       "319069                             0        0                0        0   \n",
       "319070                             0        0                0        0   \n",
       "319071                             0        0                0        0   \n",
       "319072                             0        0                0        0   \n",
       "\n",
       "        Simple Assault  Towed  Vandalism  Verbal Disputes  Violations  \\\n",
       "0                    0      0          0                0           0   \n",
       "1                    0      0          1                0           0   \n",
       "2                    0      1          0                0           0   \n",
       "3                    0      0          0                0           0   \n",
       "4                    0      0          0                0           0   \n",
       "...                ...    ...        ...              ...         ...   \n",
       "319068               0      0          0                0           0   \n",
       "319069               0      0          0                0           0   \n",
       "319070               0      0          0                0           0   \n",
       "319071               0      0          0                0           0   \n",
       "319072               0      0          0                0           0   \n",
       "\n",
       "        Warrant Arrests  \n",
       "0                     0  \n",
       "1                     0  \n",
       "2                     0  \n",
       "3                     0  \n",
       "4                     0  \n",
       "...                 ...  \n",
       "319068                1  \n",
       "319069                0  \n",
       "319070                1  \n",
       "319071                1  \n",
       "319072                1  \n",
       "\n",
       "[319073 rows x 67 columns]"
      ]
     },
     "execution_count": 33,
     "metadata": {},
     "output_type": "execute_result"
    }
   ],
   "source": [
    "crimeType"
   ]
  },
  {
   "cell_type": "code",
   "execution_count": null,
   "id": "f0aba43a",
   "metadata": {},
   "outputs": [],
   "source": []
  },
  {
   "cell_type": "code",
   "execution_count": 34,
   "id": "56fc24f5",
   "metadata": {},
   "outputs": [
    {
     "data": {
      "text/plain": [
       "Text(0.5, 1.0, 'How The Crime Data Is Correlated')"
      ]
     },
     "execution_count": 34,
     "metadata": {},
     "output_type": "execute_result"
    },
    {
     "data": {
      "image/png": "[encoded data removed]",
      "text/plain": [
       "<Figure size 640x480 with 2 Axes>"
      ]
     },
     "metadata": {},
     "output_type": "display_data"
    }
   ],
   "source": [
    "# Finding the correlation\n",
    "sns.heatmap(data=crime.corr()).set_title(\"How The Crime Data Is Correlated\")"
   ]
  },
  {
   "cell_type": "markdown",
   "id": "303d9f22",
   "metadata": {},
   "source": [
    "# Preparing my data for Machine Learning"
   ]
  },
  {
   "cell_type": "code",
   "execution_count": 35,
   "id": "91e00d2e",
   "metadata": {},
   "outputs": [
    {
     "name": "stdout",
     "output_type": "stream",
     "text": [
      "<class 'pandas.core.frame.DataFrame'>\n",
      "RangeIndex: 319073 entries, 0 to 319072\n",
      "Data columns (total 14 columns):\n",
      " #   Column              Non-Null Count   Dtype  \n",
      "---  ------              --------------   -----  \n",
      " 0   OFFENSE_CODE        319073 non-null  int64  \n",
      " 1   OFFENSE_CODE_GROUP  319073 non-null  object \n",
      " 2   DISTRICT            319073 non-null  object \n",
      " 3   REPORTING_AREA      319073 non-null  object \n",
      " 4   YEAR                319073 non-null  int64  \n",
      " 5   MONTH               319073 non-null  int64  \n",
      " 6   DAY_OF_WEEK         319073 non-null  object \n",
      " 7   HOUR                319073 non-null  int64  \n",
      " 8   UCR_PART            319073 non-null  object \n",
      " 9   STREET              319073 non-null  object \n",
      " 10  Lat                 319073 non-null  float64\n",
      " 11  Long                319073 non-null  float64\n",
      " 12  Location            319073 non-null  object \n",
      " 13  TIME                319073 non-null  object \n",
      "dtypes: float64(2), int64(4), object(8)\n",
      "memory usage: 34.1+ MB\n"
     ]
    }
   ],
   "source": [
    "crime.info()"
   ]
  },
  {
   "cell_type": "code",
   "execution_count": 36,
   "id": "77379ab3",
   "metadata": {},
   "outputs": [],
   "source": [
    "# Droping objects\n",
    "crime.drop([\"OFFENSE_CODE_GROUP\",\"DISTRICT\", \"REPORTING_AREA\", \"UCR_PART\", \"STREET\", \"OFFENSE_CODE\", \"Lat\", \"Long\"], axis = 1, inplace = True)"
   ]
  },
  {
   "cell_type": "code",
   "execution_count": 37,
   "id": "8a56d799",
   "metadata": {},
   "outputs": [
    {
     "name": "stdout",
     "output_type": "stream",
     "text": [
      "<class 'pandas.core.frame.DataFrame'>\n",
      "RangeIndex: 319073 entries, 0 to 319072\n",
      "Data columns (total 6 columns):\n",
      " #   Column       Non-Null Count   Dtype \n",
      "---  ------       --------------   ----- \n",
      " 0   YEAR         319073 non-null  int64 \n",
      " 1   MONTH        319073 non-null  int64 \n",
      " 2   DAY_OF_WEEK  319073 non-null  object\n",
      " 3   HOUR         319073 non-null  int64 \n",
      " 4   Location     319073 non-null  object\n",
      " 5   TIME         319073 non-null  object\n",
      "dtypes: int64(3), object(3)\n",
      "memory usage: 14.6+ MB\n"
     ]
    }
   ],
   "source": [
    "# Finding info\n",
    "crime.info()"
   ]
  },
  {
   "cell_type": "code",
   "execution_count": 38,
   "id": "99586682",
   "metadata": {},
   "outputs": [],
   "source": [
    "# droping Time, etc.\n",
    "crime.drop([\"TIME\", \"Location\", \"DAY_OF_WEEK\"], axis = 1, inplace = True)"
   ]
  },
  {
   "cell_type": "code",
   "execution_count": 39,
   "id": "4db08470",
   "metadata": {},
   "outputs": [
    {
     "name": "stdout",
     "output_type": "stream",
     "text": [
      "<class 'pandas.core.frame.DataFrame'>\n",
      "RangeIndex: 319073 entries, 0 to 319072\n",
      "Data columns (total 3 columns):\n",
      " #   Column  Non-Null Count   Dtype\n",
      "---  ------  --------------   -----\n",
      " 0   YEAR    319073 non-null  int64\n",
      " 1   MONTH   319073 non-null  int64\n",
      " 2   HOUR    319073 non-null  int64\n",
      "dtypes: int64(3)\n",
      "memory usage: 7.3 MB\n"
     ]
    }
   ],
   "source": [
    "# Finding info\n",
    "crime.info()"
   ]
  },
  {
   "cell_type": "code",
   "execution_count": 40,
   "id": "2700b423",
   "metadata": {},
   "outputs": [
    {
     "data": {
      "text/plain": [
       "0         13.000000\n",
       "1         13.118205\n",
       "2         19.000000\n",
       "3         21.000000\n",
       "4         21.000000\n",
       "            ...    \n",
       "319068    17.000000\n",
       "319069    13.000000\n",
       "319070    13.000000\n",
       "319071    19.000000\n",
       "319072    13.118205\n",
       "Name: HOUR, Length: 319073, dtype: float64"
      ]
     },
     "execution_count": 40,
     "metadata": {},
     "output_type": "execute_result"
    }
   ],
   "source": [
    "crime[\"YEAR\"].replace(0, crime[\"YEAR\"].mean())\n",
    "crime[\"MONTH\"].replace(0, crime[\"MONTH\"].mean())\n",
    "crime[\"HOUR\"].replace(0, crime[\"HOUR\"].mean())"
   ]
  },
  {
   "cell_type": "code",
   "execution_count": 41,
   "id": "61dda5cc",
   "metadata": {},
   "outputs": [
    {
     "data": {
      "text/plain": [
       "Index(['YEAR', 'MONTH', 'HOUR'], dtype='object')"
      ]
     },
     "execution_count": 41,
     "metadata": {},
     "output_type": "execute_result"
    }
   ],
   "source": [
    "# Finding colmns\n",
    "crime.columns"
   ]
  },
  {
   "cell_type": "code",
   "execution_count": 42,
   "id": "8134ddf3",
   "metadata": {},
   "outputs": [],
   "source": [
    "#assiging values\n",
    "X = crime[['YEAR', 'MONTH']]\n",
    "y = crime['HOUR']"
   ]
  },
  {
   "cell_type": "code",
   "execution_count": 43,
   "id": "13b04580",
   "metadata": {},
   "outputs": [],
   "source": [
    "# importing packages\n",
    "from sklearn.model_selection import train_test_split"
   ]
  },
  {
   "cell_type": "code",
   "execution_count": 44,
   "id": "67a347f6",
   "metadata": {},
   "outputs": [],
   "source": [
    "X_train, X_test, y_train, y_test = train_test_split(X, y, test_size=0.4, random_state=12)"
   ]
  },
  {
   "cell_type": "code",
   "execution_count": 45,
   "id": "93444d37",
   "metadata": {},
   "outputs": [],
   "source": [
    "from sklearn.linear_model import LogisticRegression"
   ]
  },
  {
   "cell_type": "code",
   "execution_count": 46,
   "id": "e7473c0f",
   "metadata": {},
   "outputs": [],
   "source": [
    "lReg = LogisticRegression()"
   ]
  },
  {
   "cell_type": "code",
   "execution_count": 47,
   "id": "2fb3ad2d",
   "metadata": {},
   "outputs": [
    {
     "data": {
      "text/plain": [
       "LogisticRegression()"
      ]
     },
     "execution_count": 47,
     "metadata": {},
     "output_type": "execute_result"
    }
   ],
   "source": [
    "lReg.fit(X_train, y_train)"
   ]
  },
  {
   "cell_type": "code",
   "execution_count": 48,
   "id": "11c61a46",
   "metadata": {},
   "outputs": [],
   "source": [
    "dataPredictor = lReg.predict(X_test)"
   ]
  },
  {
   "cell_type": "code",
   "execution_count": 49,
   "id": "1022df37",
   "metadata": {},
   "outputs": [],
   "source": [
    "from sklearn.metrics import classification_report"
   ]
  },
  {
   "cell_type": "code",
   "execution_count": 50,
   "id": "1a0edf75",
   "metadata": {},
   "outputs": [
    {
     "name": "stdout",
     "output_type": "stream",
     "text": [
      "              precision    recall  f1-score   support\n",
      "\n",
      "           0       0.00      0.00      0.00      5994\n",
      "           1       0.00      0.00      0.00      3723\n",
      "           2       0.00      0.00      0.00      3115\n",
      "           3       0.00      0.00      0.00      1847\n",
      "           4       0.00      0.00      0.00      1408\n",
      "           5       0.00      0.00      0.00      1344\n",
      "           6       0.00      0.00      0.00      2026\n",
      "           7       0.00      0.00      0.00      3422\n",
      "           8       0.00      0.00      0.00      5291\n",
      "           9       0.00      0.00      0.00      5833\n",
      "          10       0.00      0.00      0.00      6631\n",
      "          11       0.00      0.00      0.00      6528\n",
      "          12       0.00      0.00      0.00      7517\n",
      "          13       0.00      0.00      0.00      6713\n",
      "          14       0.00      0.00      0.00      6824\n",
      "          15       0.00      0.00      0.00      6498\n",
      "          16       0.00      0.00      0.00      8071\n",
      "          17       0.06      1.00      0.12      8231\n",
      "          18       0.00      0.00      0.00      8165\n",
      "          19       0.00      0.00      0.00      7113\n",
      "          20       0.00      0.00      0.00      6290\n",
      "          21       0.00      0.00      0.00      5662\n",
      "          22       0.00      0.00      0.00      5168\n",
      "          23       0.00      0.00      0.00      4216\n",
      "\n",
      "    accuracy                           0.06    127630\n",
      "   macro avg       0.00      0.04      0.01    127630\n",
      "weighted avg       0.00      0.06      0.01    127630\n",
      "\n"
     ]
    },
    {
     "name": "stderr",
     "output_type": "stream",
     "text": [
      "/home/babu/anaconda3/lib/python3.9/site-packages/sklearn/metrics/_classification.py:1318: UndefinedMetricWarning: Precision and F-score are ill-defined and being set to 0.0 in labels with no predicted samples. Use `zero_division` parameter to control this behavior.\n",
      "  _warn_prf(average, modifier, msg_start, len(result))\n",
      "/home/babu/anaconda3/lib/python3.9/site-packages/sklearn/metrics/_classification.py:1318: UndefinedMetricWarning: Precision and F-score are ill-defined and being set to 0.0 in labels with no predicted samples. Use `zero_division` parameter to control this behavior.\n",
      "  _warn_prf(average, modifier, msg_start, len(result))\n",
      "/home/babu/anaconda3/lib/python3.9/site-packages/sklearn/metrics/_classification.py:1318: UndefinedMetricWarning: Precision and F-score are ill-defined and being set to 0.0 in labels with no predicted samples. Use `zero_division` parameter to control this behavior.\n",
      "  _warn_prf(average, modifier, msg_start, len(result))\n"
     ]
    }
   ],
   "source": [
    "print(classification_report(y_test,dataPredictor))"
   ]
  },
  {
   "cell_type": "markdown",
   "id": "165780d1",
   "metadata": {},
   "source": [
    "## *The above data is showing me that my algorithm is not perfomaing well, because the numeric data's are not uniform*"
   ]
  },
  {
   "cell_type": "markdown",
   "id": "2870b510",
   "metadata": {},
   "source": []
  },
  {
   "cell_type": "markdown",
   "id": "2afd6702",
   "metadata": {},
   "source": []
  },
  {
   "cell_type": "markdown",
   "id": "8257de80",
   "metadata": {},
   "source": [
    "# crime days"
   ]
  },
  {
   "cell_type": "code",
   "execution_count": 53,
   "id": "d82a1511",
   "metadata": {},
   "outputs": [],
   "source": [
    "X = crimeDays[[ \"Friday\",\"Monday\", \"Saturday\", \"Sunday\", \"Thursday\", \"Tuesday\"]]\n",
    "y = crimeDays[\"Wednesday\"]"
   ]
  },
  {
   "cell_type": "code",
   "execution_count": 54,
   "id": "15988807",
   "metadata": {},
   "outputs": [],
   "source": [
    "# importing packages\n",
    "from sklearn.model_selection import train_test_split"
   ]
  },
  {
   "cell_type": "code",
   "execution_count": 55,
   "id": "fe5920cb",
   "metadata": {},
   "outputs": [],
   "source": [
    "X_train, X_test, y_train, y_test = train_test_split(X, y, test_size=0.4, random_state=12)"
   ]
  },
  {
   "cell_type": "code",
   "execution_count": 56,
   "id": "4b2cd729",
   "metadata": {},
   "outputs": [],
   "source": [
    "from sklearn.linear_model import LogisticRegression"
   ]
  },
  {
   "cell_type": "code",
   "execution_count": 57,
   "id": "9dd7890a",
   "metadata": {},
   "outputs": [],
   "source": [
    "lReg = LogisticRegression()"
   ]
  },
  {
   "cell_type": "code",
   "execution_count": 58,
   "id": "82d90c1d",
   "metadata": {},
   "outputs": [
    {
     "data": {
      "text/plain": [
       "LogisticRegression()"
      ]
     },
     "execution_count": 58,
     "metadata": {},
     "output_type": "execute_result"
    }
   ],
   "source": [
    "lReg.fit(X_train, y_train)"
   ]
  },
  {
   "cell_type": "code",
   "execution_count": 59,
   "id": "5e11116d",
   "metadata": {},
   "outputs": [],
   "source": [
    "dataPredictor = lReg.predict(X_test)"
   ]
  },
  {
   "cell_type": "code",
   "execution_count": 60,
   "id": "b74a358c",
   "metadata": {},
   "outputs": [],
   "source": [
    "from sklearn.metrics import classification_report"
   ]
  },
  {
   "cell_type": "code",
   "execution_count": 61,
   "id": "c3fb2245",
   "metadata": {},
   "outputs": [
    {
     "name": "stdout",
     "output_type": "stream",
     "text": [
      "              precision    recall  f1-score   support\n",
      "\n",
      "           0       1.00      1.00      1.00    108976\n",
      "           1       1.00      1.00      1.00     18654\n",
      "\n",
      "    accuracy                           1.00    127630\n",
      "   macro avg       1.00      1.00      1.00    127630\n",
      "weighted avg       1.00      1.00      1.00    127630\n",
      "\n"
     ]
    }
   ],
   "source": [
    "print(classification_report(y_test,dataPredictor))"
   ]
  },
  {
   "cell_type": "markdown",
   "id": "d1b6c442",
   "metadata": {},
   "source": [
    "# *The above data is showing me that my algorithm is perfomaing very well, because the numeric data are uniform*"
   ]
  },
  {
   "cell_type": "markdown",
   "id": "9baf503c",
   "metadata": {},
   "source": []
  },
  {
   "cell_type": "markdown",
   "id": "7f2c67b4",
   "metadata": {},
   "source": []
  },
  {
   "cell_type": "markdown",
   "id": "f4db65ed",
   "metadata": {},
   "source": []
  },
  {
   "cell_type": "markdown",
   "id": "91fd2961",
   "metadata": {},
   "source": [
    "# Report:\n",
    "\n",
    "## The data shows that there is no significant change or drop of crime from 2015 to 2018. And data shows that there is more crime from october to december. And most crimes occur from 1:00 am to 3:00 am Therefore, my recomendation is to pay more attension to crimes from the beggining of October to the end of December."
   ]
  },
  {
   "cell_type": "code",
   "execution_count": null,
   "id": "09611d86",
   "metadata": {},
   "outputs": [],
   "source": []
  }
 ],
 "metadata": {
  "kernelspec": {
   "display_name": "Python 3 (ipykernel)",
   "language": "python",
   "name": "python3"
  },
  "language_info": {
   "codemirror_mode": {
    "name": "ipython",
    "version": 3
   },
   "file_extension": ".py",
   "mimetype": "text/x-python",
   "name": "python",
   "nbconvert_exporter": "python",
   "pygments_lexer": "ipython3",
   "version": "3.9.13"
  }
 },
 "nbformat": 4,
 "nbformat_minor": 5
}
